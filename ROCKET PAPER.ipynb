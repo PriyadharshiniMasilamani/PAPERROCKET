{
 "cells": [
  {
   "cell_type": "markdown",
   "id": "88c4b083",
   "metadata": {},
   "source": [
    "<h1>PAPER ROCKET</h1>"
   ]
  },
  {
   "cell_type": "code",
   "execution_count": 1,
   "id": "88f4ee83",
   "metadata": {},
   "outputs": [],
   "source": [
    "import pandas as pd\n",
    "import numpy as np\n",
    "from scipy import stats\n",
    "import seaborn as sns\n",
    "import matplotlib.pyplot as plt\n",
    "import statsmodels.api as sm"
   ]
  },
  {
   "cell_type": "code",
   "execution_count": 2,
   "id": "d8b7d34a",
   "metadata": {},
   "outputs": [],
   "source": [
    "df=pd.read_csv(\"C:/Users/PRADEEP PRIYA/Downloads/Flight  - Sheet1.csv\")\n"
   ]
  },
  {
   "cell_type": "code",
   "execution_count": 3,
   "id": "13fcb2c8",
   "metadata": {},
   "outputs": [
    {
     "data": {
      "text/html": [
       "<div>\n",
       "<style scoped>\n",
       "    .dataframe tbody tr th:only-of-type {\n",
       "        vertical-align: middle;\n",
       "    }\n",
       "\n",
       "    .dataframe tbody tr th {\n",
       "        vertical-align: top;\n",
       "    }\n",
       "\n",
       "    .dataframe thead th {\n",
       "        text-align: right;\n",
       "    }\n",
       "</style>\n",
       "<table border=\"1\" class=\"dataframe\">\n",
       "  <thead>\n",
       "    <tr style=\"text-align: right;\">\n",
       "      <th></th>\n",
       "      <th>Person</th>\n",
       "      <th>Item_Identifier</th>\n",
       "      <th>Length</th>\n",
       "      <th>Breadth</th>\n",
       "      <th>PaperQuality</th>\n",
       "      <th>Angle</th>\n",
       "      <th>Foldings</th>\n",
       "      <th>Windspeed</th>\n",
       "      <th>Dominanthand</th>\n",
       "      <th>Distance</th>\n",
       "    </tr>\n",
       "  </thead>\n",
       "  <tbody>\n",
       "    <tr>\n",
       "      <th>0</th>\n",
       "      <td>Kevin</td>\n",
       "      <td>Som</td>\n",
       "      <td>29.0</td>\n",
       "      <td>20.0</td>\n",
       "      <td>A</td>\n",
       "      <td>U</td>\n",
       "      <td>8</td>\n",
       "      <td>On</td>\n",
       "      <td>L</td>\n",
       "      <td>5</td>\n",
       "    </tr>\n",
       "    <tr>\n",
       "      <th>1</th>\n",
       "      <td>Kevin</td>\n",
       "      <td>kevin</td>\n",
       "      <td>23.0</td>\n",
       "      <td>16.0</td>\n",
       "      <td>B</td>\n",
       "      <td>U</td>\n",
       "      <td>8</td>\n",
       "      <td>On</td>\n",
       "      <td>L</td>\n",
       "      <td>5</td>\n",
       "    </tr>\n",
       "    <tr>\n",
       "      <th>2</th>\n",
       "      <td>Kevin</td>\n",
       "      <td>RR</td>\n",
       "      <td>NaN</td>\n",
       "      <td>18.0</td>\n",
       "      <td>A</td>\n",
       "      <td>L</td>\n",
       "      <td>10</td>\n",
       "      <td>On</td>\n",
       "      <td>R</td>\n",
       "      <td>6</td>\n",
       "    </tr>\n",
       "    <tr>\n",
       "      <th>3</th>\n",
       "      <td>Priya</td>\n",
       "      <td>Nithya</td>\n",
       "      <td>27.0</td>\n",
       "      <td>20.0</td>\n",
       "      <td>A</td>\n",
       "      <td>U</td>\n",
       "      <td>10</td>\n",
       "      <td>On</td>\n",
       "      <td>R</td>\n",
       "      <td>4</td>\n",
       "    </tr>\n",
       "    <tr>\n",
       "      <th>4</th>\n",
       "      <td>Priya</td>\n",
       "      <td>Priya</td>\n",
       "      <td>29.5</td>\n",
       "      <td>17.5</td>\n",
       "      <td>B</td>\n",
       "      <td>U</td>\n",
       "      <td>5</td>\n",
       "      <td>Off</td>\n",
       "      <td>R</td>\n",
       "      <td>8</td>\n",
       "    </tr>\n",
       "  </tbody>\n",
       "</table>\n",
       "</div>"
      ],
      "text/plain": [
       "  Person Item_Identifier  Length  Breadth PaperQuality Angle  Foldings  \\\n",
       "0  Kevin             Som    29.0     20.0            A     U         8   \n",
       "1  Kevin           kevin    23.0     16.0            B     U         8   \n",
       "2  Kevin              RR     NaN     18.0            A     L        10   \n",
       "3  Priya          Nithya    27.0     20.0            A     U        10   \n",
       "4  Priya           Priya    29.5     17.5            B     U         5   \n",
       "\n",
       "  Windspeed Dominanthand  Distance  \n",
       "0        On            L         5  \n",
       "1        On            L         5  \n",
       "2        On            R         6  \n",
       "3        On            R         4  \n",
       "4       Off            R         8  "
      ]
     },
     "execution_count": 3,
     "metadata": {},
     "output_type": "execute_result"
    }
   ],
   "source": [
    "df.head()"
   ]
  },
  {
   "cell_type": "code",
   "execution_count": 4,
   "id": "2c9467d0",
   "metadata": {},
   "outputs": [
    {
     "data": {
      "text/plain": [
       "Index(['Person', 'Item_Identifier', 'Length', 'Breadth', 'PaperQuality',\n",
       "       'Angle', 'Foldings', 'Windspeed', 'Dominanthand', 'Distance'],\n",
       "      dtype='object')"
      ]
     },
     "execution_count": 4,
     "metadata": {},
     "output_type": "execute_result"
    }
   ],
   "source": [
    "df.columns"
   ]
  },
  {
   "cell_type": "markdown",
   "id": "56f66235",
   "metadata": {},
   "source": [
    "<h2>CREATE COLUMN FOR DISCRETE (Y)</h2>"
   ]
  },
  {
   "cell_type": "code",
   "execution_count": 5,
   "id": "9d9360db",
   "metadata": {},
   "outputs": [
    {
     "data": {
      "text/html": [
       "<div>\n",
       "<style scoped>\n",
       "    .dataframe tbody tr th:only-of-type {\n",
       "        vertical-align: middle;\n",
       "    }\n",
       "\n",
       "    .dataframe tbody tr th {\n",
       "        vertical-align: top;\n",
       "    }\n",
       "\n",
       "    .dataframe thead th {\n",
       "        text-align: right;\n",
       "    }\n",
       "</style>\n",
       "<table border=\"1\" class=\"dataframe\">\n",
       "  <thead>\n",
       "    <tr style=\"text-align: right;\">\n",
       "      <th></th>\n",
       "      <th>Person</th>\n",
       "      <th>Item_Identifier</th>\n",
       "      <th>Length</th>\n",
       "      <th>Breadth</th>\n",
       "      <th>PaperQuality</th>\n",
       "      <th>Angle</th>\n",
       "      <th>Foldings</th>\n",
       "      <th>Windspeed</th>\n",
       "      <th>Dominanthand</th>\n",
       "      <th>Distance</th>\n",
       "      <th>RocketDistance</th>\n",
       "    </tr>\n",
       "  </thead>\n",
       "  <tbody>\n",
       "    <tr>\n",
       "      <th>0</th>\n",
       "      <td>Kevin</td>\n",
       "      <td>Som</td>\n",
       "      <td>29.0</td>\n",
       "      <td>20.0</td>\n",
       "      <td>A</td>\n",
       "      <td>U</td>\n",
       "      <td>8</td>\n",
       "      <td>On</td>\n",
       "      <td>L</td>\n",
       "      <td>5</td>\n",
       "      <td>Yes</td>\n",
       "    </tr>\n",
       "    <tr>\n",
       "      <th>1</th>\n",
       "      <td>Kevin</td>\n",
       "      <td>kevin</td>\n",
       "      <td>23.0</td>\n",
       "      <td>16.0</td>\n",
       "      <td>B</td>\n",
       "      <td>U</td>\n",
       "      <td>8</td>\n",
       "      <td>On</td>\n",
       "      <td>L</td>\n",
       "      <td>5</td>\n",
       "      <td>Yes</td>\n",
       "    </tr>\n",
       "    <tr>\n",
       "      <th>2</th>\n",
       "      <td>Kevin</td>\n",
       "      <td>RR</td>\n",
       "      <td>NaN</td>\n",
       "      <td>18.0</td>\n",
       "      <td>A</td>\n",
       "      <td>L</td>\n",
       "      <td>10</td>\n",
       "      <td>On</td>\n",
       "      <td>R</td>\n",
       "      <td>6</td>\n",
       "      <td>Yes</td>\n",
       "    </tr>\n",
       "    <tr>\n",
       "      <th>3</th>\n",
       "      <td>Priya</td>\n",
       "      <td>Nithya</td>\n",
       "      <td>27.0</td>\n",
       "      <td>20.0</td>\n",
       "      <td>A</td>\n",
       "      <td>U</td>\n",
       "      <td>10</td>\n",
       "      <td>On</td>\n",
       "      <td>R</td>\n",
       "      <td>4</td>\n",
       "      <td>No</td>\n",
       "    </tr>\n",
       "    <tr>\n",
       "      <th>4</th>\n",
       "      <td>Priya</td>\n",
       "      <td>Priya</td>\n",
       "      <td>29.5</td>\n",
       "      <td>17.5</td>\n",
       "      <td>B</td>\n",
       "      <td>U</td>\n",
       "      <td>5</td>\n",
       "      <td>Off</td>\n",
       "      <td>R</td>\n",
       "      <td>8</td>\n",
       "      <td>Yes</td>\n",
       "    </tr>\n",
       "  </tbody>\n",
       "</table>\n",
       "</div>"
      ],
      "text/plain": [
       "  Person Item_Identifier  Length  Breadth PaperQuality Angle  Foldings  \\\n",
       "0  Kevin             Som    29.0     20.0            A     U         8   \n",
       "1  Kevin           kevin    23.0     16.0            B     U         8   \n",
       "2  Kevin              RR     NaN     18.0            A     L        10   \n",
       "3  Priya          Nithya    27.0     20.0            A     U        10   \n",
       "4  Priya           Priya    29.5     17.5            B     U         5   \n",
       "\n",
       "  Windspeed Dominanthand  Distance RocketDistance  \n",
       "0        On            L         5            Yes  \n",
       "1        On            L         5            Yes  \n",
       "2        On            R         6            Yes  \n",
       "3        On            R         4             No  \n",
       "4       Off            R         8            Yes  "
      ]
     },
     "execution_count": 5,
     "metadata": {},
     "output_type": "execute_result"
    }
   ],
   "source": [
    "data=pd.DataFrame(df)\n",
    "data[\"RocketDistance\"]=np.where(data[\"Distance\"]>=5,\"Yes\",\"No\")\n",
    "data.head()\n"
   ]
  },
  {
   "cell_type": "code",
   "execution_count": 6,
   "id": "0409b92f",
   "metadata": {},
   "outputs": [
    {
     "data": {
      "text/plain": [
       "Index(['Person', 'Item_Identifier', 'Length', 'Breadth', 'PaperQuality',\n",
       "       'Angle', 'Foldings', 'Windspeed', 'Dominanthand', 'Distance',\n",
       "       'RocketDistance'],\n",
       "      dtype='object')"
      ]
     },
     "execution_count": 6,
     "metadata": {},
     "output_type": "execute_result"
    }
   ],
   "source": [
    "data.columns"
   ]
  },
  {
   "cell_type": "code",
   "execution_count": 7,
   "id": "924fa076",
   "metadata": {},
   "outputs": [],
   "source": [
    "data.drop(\"Item_Identifier\",axis=1,inplace=True)"
   ]
  },
  {
   "cell_type": "code",
   "execution_count": 8,
   "id": "3bdaba2f",
   "metadata": {},
   "outputs": [
    {
     "data": {
      "text/html": [
       "<div>\n",
       "<style scoped>\n",
       "    .dataframe tbody tr th:only-of-type {\n",
       "        vertical-align: middle;\n",
       "    }\n",
       "\n",
       "    .dataframe tbody tr th {\n",
       "        vertical-align: top;\n",
       "    }\n",
       "\n",
       "    .dataframe thead th {\n",
       "        text-align: right;\n",
       "    }\n",
       "</style>\n",
       "<table border=\"1\" class=\"dataframe\">\n",
       "  <thead>\n",
       "    <tr style=\"text-align: right;\">\n",
       "      <th></th>\n",
       "      <th>Person</th>\n",
       "      <th>Length</th>\n",
       "      <th>Breadth</th>\n",
       "      <th>PaperQuality</th>\n",
       "      <th>Angle</th>\n",
       "      <th>Foldings</th>\n",
       "      <th>Windspeed</th>\n",
       "      <th>Dominanthand</th>\n",
       "      <th>Distance</th>\n",
       "      <th>RocketDistance</th>\n",
       "    </tr>\n",
       "  </thead>\n",
       "  <tbody>\n",
       "    <tr>\n",
       "      <th>0</th>\n",
       "      <td>Kevin</td>\n",
       "      <td>29.0</td>\n",
       "      <td>20.0</td>\n",
       "      <td>A</td>\n",
       "      <td>U</td>\n",
       "      <td>8</td>\n",
       "      <td>On</td>\n",
       "      <td>L</td>\n",
       "      <td>5</td>\n",
       "      <td>Yes</td>\n",
       "    </tr>\n",
       "    <tr>\n",
       "      <th>1</th>\n",
       "      <td>Kevin</td>\n",
       "      <td>23.0</td>\n",
       "      <td>16.0</td>\n",
       "      <td>B</td>\n",
       "      <td>U</td>\n",
       "      <td>8</td>\n",
       "      <td>On</td>\n",
       "      <td>L</td>\n",
       "      <td>5</td>\n",
       "      <td>Yes</td>\n",
       "    </tr>\n",
       "    <tr>\n",
       "      <th>2</th>\n",
       "      <td>Kevin</td>\n",
       "      <td>NaN</td>\n",
       "      <td>18.0</td>\n",
       "      <td>A</td>\n",
       "      <td>L</td>\n",
       "      <td>10</td>\n",
       "      <td>On</td>\n",
       "      <td>R</td>\n",
       "      <td>6</td>\n",
       "      <td>Yes</td>\n",
       "    </tr>\n",
       "    <tr>\n",
       "      <th>3</th>\n",
       "      <td>Priya</td>\n",
       "      <td>27.0</td>\n",
       "      <td>20.0</td>\n",
       "      <td>A</td>\n",
       "      <td>U</td>\n",
       "      <td>10</td>\n",
       "      <td>On</td>\n",
       "      <td>R</td>\n",
       "      <td>4</td>\n",
       "      <td>No</td>\n",
       "    </tr>\n",
       "    <tr>\n",
       "      <th>4</th>\n",
       "      <td>Priya</td>\n",
       "      <td>29.5</td>\n",
       "      <td>17.5</td>\n",
       "      <td>B</td>\n",
       "      <td>U</td>\n",
       "      <td>5</td>\n",
       "      <td>Off</td>\n",
       "      <td>R</td>\n",
       "      <td>8</td>\n",
       "      <td>Yes</td>\n",
       "    </tr>\n",
       "  </tbody>\n",
       "</table>\n",
       "</div>"
      ],
      "text/plain": [
       "  Person  Length  Breadth PaperQuality Angle  Foldings Windspeed Dominanthand  \\\n",
       "0  Kevin    29.0     20.0            A     U         8        On            L   \n",
       "1  Kevin    23.0     16.0            B     U         8        On            L   \n",
       "2  Kevin     NaN     18.0            A     L        10        On            R   \n",
       "3  Priya    27.0     20.0            A     U        10        On            R   \n",
       "4  Priya    29.5     17.5            B     U         5       Off            R   \n",
       "\n",
       "   Distance RocketDistance  \n",
       "0         5            Yes  \n",
       "1         5            Yes  \n",
       "2         6            Yes  \n",
       "3         4             No  \n",
       "4         8            Yes  "
      ]
     },
     "execution_count": 8,
     "metadata": {},
     "output_type": "execute_result"
    }
   ],
   "source": [
    "data.head()"
   ]
  },
  {
   "cell_type": "code",
   "execution_count": 9,
   "id": "8fab9c63",
   "metadata": {},
   "outputs": [
    {
     "data": {
      "text/plain": [
       "Person             0\n",
       "Length            17\n",
       "Breadth            0\n",
       "PaperQuality       8\n",
       "Angle              4\n",
       "Foldings           0\n",
       "Windspeed          0\n",
       "Dominanthand       0\n",
       "Distance           0\n",
       "RocketDistance     0\n",
       "dtype: int64"
      ]
     },
     "execution_count": 9,
     "metadata": {},
     "output_type": "execute_result"
    }
   ],
   "source": [
    "data.isnull().sum()"
   ]
  },
  {
   "cell_type": "markdown",
   "id": "97f76692",
   "metadata": {},
   "source": [
    "<h2>EDA</h2>"
   ]
  },
  {
   "cell_type": "markdown",
   "id": "65ddecb1",
   "metadata": {},
   "source": [
    "<h5>PERSON</h5>"
   ]
  },
  {
   "cell_type": "code",
   "execution_count": 10,
   "id": "f87e24d8",
   "metadata": {},
   "outputs": [
    {
     "data": {
      "text/plain": [
       "count        88\n",
       "unique        4\n",
       "top       Priya\n",
       "freq         30\n",
       "Name: Person, dtype: object"
      ]
     },
     "execution_count": 10,
     "metadata": {},
     "output_type": "execute_result"
    }
   ],
   "source": [
    "data.Person.describe()"
   ]
  },
  {
   "cell_type": "code",
   "execution_count": 11,
   "id": "e1961976",
   "metadata": {},
   "outputs": [
    {
     "data": {
      "text/plain": [
       "0"
      ]
     },
     "execution_count": 11,
     "metadata": {},
     "output_type": "execute_result"
    }
   ],
   "source": [
    "data.Person.isnull().sum()"
   ]
  },
  {
   "cell_type": "code",
   "execution_count": 12,
   "id": "95fe9142",
   "metadata": {},
   "outputs": [
    {
     "data": {
      "text/plain": [
       "<AxesSubplot:xlabel='Person', ylabel='count'>"
      ]
     },
     "execution_count": 12,
     "metadata": {},
     "output_type": "execute_result"
    },
    {
     "data": {
      "image/png": "[encoded data removed]",
      "text/plain": [
       "<Figure size 432x288 with 1 Axes>"
      ]
     },
     "metadata": {
      "needs_background": "light"
     },
     "output_type": "display_data"
    }
   ],
   "source": [
    "sns.countplot(x=\"Person\",data=data)"
   ]
  },
  {
   "cell_type": "markdown",
   "id": "264aae74",
   "metadata": {},
   "source": [
    "<h5>LENGTH</h5>"
   ]
  },
  {
   "cell_type": "code",
   "execution_count": 13,
   "id": "27b2df5e",
   "metadata": {},
   "outputs": [
    {
     "data": {
      "text/plain": [
       "count    71.000000\n",
       "mean     26.708451\n",
       "std      11.920268\n",
       "min       0.000000\n",
       "25%      22.500000\n",
       "50%      28.500000\n",
       "75%      29.500000\n",
       "max      98.000000\n",
       "Name: Length, dtype: float64"
      ]
     },
     "execution_count": 13,
     "metadata": {},
     "output_type": "execute_result"
    }
   ],
   "source": [
    "data.Length.describe()"
   ]
  },
  {
   "cell_type": "code",
   "execution_count": 14,
   "id": "cbdaa9da",
   "metadata": {},
   "outputs": [
    {
     "data": {
      "text/plain": [
       "17"
      ]
     },
     "execution_count": 14,
     "metadata": {},
     "output_type": "execute_result"
    }
   ],
   "source": [
    "data.Length.isnull().sum()"
   ]
  },
  {
   "cell_type": "code",
   "execution_count": 15,
   "id": "fa0ed894",
   "metadata": {},
   "outputs": [],
   "source": [
    "data.Length.fillna(data.Length.median(),inplace=True)"
   ]
  },
  {
   "cell_type": "code",
   "execution_count": 16,
   "id": "f5ddaa51",
   "metadata": {},
   "outputs": [
    {
     "data": {
      "text/plain": [
       "{'whiskers': [<matplotlib.lines.Line2D at 0x17f481c5130>,\n",
       "  <matplotlib.lines.Line2D at 0x17f481c52e0>],\n",
       " 'caps': [<matplotlib.lines.Line2D at 0x17f481c5670>,\n",
       "  <matplotlib.lines.Line2D at 0x17f481c5a00>],\n",
       " 'boxes': [<matplotlib.lines.Line2D at 0x17f481b4ca0>],\n",
       " 'medians': [<matplotlib.lines.Line2D at 0x17f481c5d90>],\n",
       " 'fliers': [<matplotlib.lines.Line2D at 0x17f481d1160>],\n",
       " 'means': []}"
      ]
     },
     "execution_count": 16,
     "metadata": {},
     "output_type": "execute_result"
    },
    {
     "data": {
      "image/png": "[encoded data removed]",
      "text/plain": [
       "<Figure size 432x288 with 1 Axes>"
      ]
     },
     "metadata": {
      "needs_background": "light"
     },
     "output_type": "display_data"
    }
   ],
   "source": [
    "plt.boxplot(data.Length)"
   ]
  },
  {
   "cell_type": "code",
   "execution_count": 17,
   "id": "22b2522e",
   "metadata": {},
   "outputs": [
    {
     "name": "stderr",
     "output_type": "stream",
     "text": [
      "C:\\Users\\PRADEE~1\\AppData\\Local\\Temp/ipykernel_13752/4072225688.py:7: SettingWithCopyWarning: \n",
      "A value is trying to be set on a copy of a slice from a DataFrame\n",
      "\n",
      "See the caveats in the documentation: https://pandas.pydata.org/pandas-docs/stable/user_guide/indexing.html#returning-a-view-versus-a-copy\n",
      "  data.Length[data.Length>UE]=UE\n",
      "C:\\Users\\PRADEE~1\\AppData\\Local\\Temp/ipykernel_13752/4072225688.py:8: SettingWithCopyWarning: \n",
      "A value is trying to be set on a copy of a slice from a DataFrame\n",
      "\n",
      "See the caveats in the documentation: https://pandas.pydata.org/pandas-docs/stable/user_guide/indexing.html#returning-a-view-versus-a-copy\n",
      "  data.Length[data.Length<LE]=LE\n"
     ]
    },
    {
     "data": {
      "text/plain": [
       "{'whiskers': [<matplotlib.lines.Line2D at 0x17f48238f10>,\n",
       "  <matplotlib.lines.Line2D at 0x17f482452e0>],\n",
       " 'caps': [<matplotlib.lines.Line2D at 0x17f48245550>,\n",
       "  <matplotlib.lines.Line2D at 0x17f482458e0>],\n",
       " 'boxes': [<matplotlib.lines.Line2D at 0x17f48238b80>],\n",
       " 'medians': [<matplotlib.lines.Line2D at 0x17f48245c70>],\n",
       " 'fliers': [<matplotlib.lines.Line2D at 0x17f48250040>],\n",
       " 'means': []}"
      ]
     },
     "execution_count": 17,
     "metadata": {},
     "output_type": "execute_result"
    },
    {
     "data": {
      "image/png": "[encoded data removed]",
      "text/plain": [
       "<Figure size 432x288 with 1 Axes>"
      ]
     },
     "metadata": {
      "needs_background": "light"
     },
     "output_type": "display_data"
    }
   ],
   "source": [
    "q3=data.Length.quantile(0.75)\n",
    "q1=data.Length.quantile(0.25)\n",
    "iqr=q3-q1\n",
    "UE=q3+1.5*(iqr)\n",
    "LE=q1-1.5*(iqr)\n",
    "data[(data.Length<UE)&(data.Length>LE)]\n",
    "data.Length[data.Length>UE]=UE\n",
    "data.Length[data.Length<LE]=LE\n",
    "plt.boxplot(data.Length)"
   ]
  },
  {
   "cell_type": "markdown",
   "id": "f58f2b4a",
   "metadata": {},
   "source": [
    "<h5>BREADTH</h5>"
   ]
  },
  {
   "cell_type": "code",
   "execution_count": 18,
   "id": "883aa6cb",
   "metadata": {},
   "outputs": [
    {
     "data": {
      "text/plain": [
       "count    88.000000\n",
       "mean     18.500000\n",
       "std       1.339068\n",
       "min      16.000000\n",
       "25%      17.500000\n",
       "50%      18.500000\n",
       "75%      20.000000\n",
       "max      20.500000\n",
       "Name: Breadth, dtype: float64"
      ]
     },
     "execution_count": 18,
     "metadata": {},
     "output_type": "execute_result"
    }
   ],
   "source": [
    "data.Breadth.describe()"
   ]
  },
  {
   "cell_type": "code",
   "execution_count": 19,
   "id": "604899f3",
   "metadata": {},
   "outputs": [
    {
     "data": {
      "text/plain": [
       "0"
      ]
     },
     "execution_count": 19,
     "metadata": {},
     "output_type": "execute_result"
    }
   ],
   "source": [
    "data.Breadth.isnull().sum()\n"
   ]
  },
  {
   "cell_type": "code",
   "execution_count": 20,
   "id": "1e9a2750",
   "metadata": {},
   "outputs": [
    {
     "data": {
      "text/plain": [
       "{'whiskers': [<matplotlib.lines.Line2D at 0x17f482b3790>,\n",
       "  <matplotlib.lines.Line2D at 0x17f482b39d0>],\n",
       " 'caps': [<matplotlib.lines.Line2D at 0x17f482b3d90>,\n",
       "  <matplotlib.lines.Line2D at 0x17f482bf160>],\n",
       " 'boxes': [<matplotlib.lines.Line2D at 0x17f482b3400>],\n",
       " 'medians': [<matplotlib.lines.Line2D at 0x17f482bf4f0>],\n",
       " 'fliers': [<matplotlib.lines.Line2D at 0x17f482bf880>],\n",
       " 'means': []}"
      ]
     },
     "execution_count": 20,
     "metadata": {},
     "output_type": "execute_result"
    },
    {
     "data": {
      "image/png": "[encoded data removed]",
      "text/plain": [
       "<Figure size 432x288 with 1 Axes>"
      ]
     },
     "metadata": {
      "needs_background": "light"
     },
     "output_type": "display_data"
    }
   ],
   "source": [
    "plt.boxplot(data.Breadth)"
   ]
  },
  {
   "cell_type": "markdown",
   "id": "27b774f2",
   "metadata": {},
   "source": [
    "<h5>PAPER QUALITY</h5>"
   ]
  },
  {
   "cell_type": "code",
   "execution_count": 21,
   "id": "9843b96a",
   "metadata": {},
   "outputs": [
    {
     "data": {
      "text/plain": [
       "count     80\n",
       "unique     2\n",
       "top        B\n",
       "freq      47\n",
       "Name: PaperQuality, dtype: object"
      ]
     },
     "execution_count": 21,
     "metadata": {},
     "output_type": "execute_result"
    }
   ],
   "source": [
    "data.PaperQuality.describe()"
   ]
  },
  {
   "cell_type": "code",
   "execution_count": 22,
   "id": "39192d58",
   "metadata": {},
   "outputs": [
    {
     "data": {
      "text/plain": [
       "8"
      ]
     },
     "execution_count": 22,
     "metadata": {},
     "output_type": "execute_result"
    }
   ],
   "source": [
    "data.PaperQuality.isnull().sum()"
   ]
  },
  {
   "cell_type": "code",
   "execution_count": 23,
   "id": "66080782",
   "metadata": {},
   "outputs": [],
   "source": [
    "data.PaperQuality.fillna('Others',inplace=True)"
   ]
  },
  {
   "cell_type": "code",
   "execution_count": 24,
   "id": "4ee738d8",
   "metadata": {},
   "outputs": [
    {
     "data": {
      "text/plain": [
       "<AxesSubplot:xlabel='PaperQuality', ylabel='count'>"
      ]
     },
     "execution_count": 24,
     "metadata": {},
     "output_type": "execute_result"
    },
    {
     "data": {
      "image/png": "[encoded data removed]",
      "text/plain": [
       "<Figure size 432x288 with 1 Axes>"
      ]
     },
     "metadata": {
      "needs_background": "light"
     },
     "output_type": "display_data"
    }
   ],
   "source": [
    "sns.countplot(x=\"PaperQuality\",data=data)"
   ]
  },
  {
   "cell_type": "markdown",
   "id": "db565a44",
   "metadata": {},
   "source": [
    "<h5>ANGLE</h5>"
   ]
  },
  {
   "cell_type": "code",
   "execution_count": 25,
   "id": "6aa3dee5",
   "metadata": {},
   "outputs": [
    {
     "data": {
      "text/plain": [
       "count     84\n",
       "unique     2\n",
       "top        U\n",
       "freq      62\n",
       "Name: Angle, dtype: object"
      ]
     },
     "execution_count": 25,
     "metadata": {},
     "output_type": "execute_result"
    }
   ],
   "source": [
    "data.Angle.describe()"
   ]
  },
  {
   "cell_type": "code",
   "execution_count": 26,
   "id": "930f3268",
   "metadata": {},
   "outputs": [
    {
     "data": {
      "text/plain": [
       "4"
      ]
     },
     "execution_count": 26,
     "metadata": {},
     "output_type": "execute_result"
    }
   ],
   "source": [
    "data.Angle.isnull().sum()"
   ]
  },
  {
   "cell_type": "code",
   "execution_count": 27,
   "id": "40b05ced",
   "metadata": {},
   "outputs": [],
   "source": [
    "data.Angle.fillna(data.Angle.mode(),inplace=True)"
   ]
  },
  {
   "cell_type": "code",
   "execution_count": 28,
   "id": "d747920a",
   "metadata": {},
   "outputs": [
    {
     "data": {
      "text/plain": [
       "<AxesSubplot:xlabel='Angle', ylabel='count'>"
      ]
     },
     "execution_count": 28,
     "metadata": {},
     "output_type": "execute_result"
    },
    {
     "data": {
      "image/png": "[encoded data removed]",
      "text/plain": [
       "<Figure size 432x288 with 1 Axes>"
      ]
     },
     "metadata": {
      "needs_background": "light"
     },
     "output_type": "display_data"
    }
   ],
   "source": [
    "sns.countplot(x=\"Angle\",data=data)"
   ]
  },
  {
   "cell_type": "markdown",
   "id": "da7ea47b",
   "metadata": {},
   "source": [
    "<h5>FOLDING</h5>"
   ]
  },
  {
   "cell_type": "code",
   "execution_count": 29,
   "id": "8f4ef03f",
   "metadata": {},
   "outputs": [
    {
     "data": {
      "text/plain": [
       "count    88.000000\n",
       "mean      8.136364\n",
       "std       1.736570\n",
       "min       5.000000\n",
       "25%       8.000000\n",
       "50%       8.000000\n",
       "75%      10.000000\n",
       "max      10.000000\n",
       "Name: Foldings, dtype: float64"
      ]
     },
     "execution_count": 29,
     "metadata": {},
     "output_type": "execute_result"
    }
   ],
   "source": [
    "data.Foldings.describe()"
   ]
  },
  {
   "cell_type": "code",
   "execution_count": 30,
   "id": "fd562790",
   "metadata": {},
   "outputs": [
    {
     "data": {
      "text/plain": [
       "0"
      ]
     },
     "execution_count": 30,
     "metadata": {},
     "output_type": "execute_result"
    }
   ],
   "source": [
    "data.Foldings.isnull().sum()"
   ]
  },
  {
   "cell_type": "code",
   "execution_count": 31,
   "id": "1701bb1d",
   "metadata": {},
   "outputs": [
    {
     "data": {
      "text/plain": [
       "<AxesSubplot:xlabel='Foldings', ylabel='count'>"
      ]
     },
     "execution_count": 31,
     "metadata": {},
     "output_type": "execute_result"
    },
    {
     "data": {
      "image/png": "[encoded data removed]",
      "text/plain": [
       "<Figure size 432x288 with 1 Axes>"
      ]
     },
     "metadata": {
      "needs_background": "light"
     },
     "output_type": "display_data"
    }
   ],
   "source": [
    "sns.countplot(x=\"Foldings\",data=data)"
   ]
  },
  {
   "cell_type": "markdown",
   "id": "30436a4e",
   "metadata": {},
   "source": [
    "<h5>WINDSPEED</h5>"
   ]
  },
  {
   "cell_type": "code",
   "execution_count": 32,
   "id": "3ef61564",
   "metadata": {},
   "outputs": [
    {
     "data": {
      "text/plain": [
       "count     88\n",
       "unique     2\n",
       "top       On\n",
       "freq      44\n",
       "Name: Windspeed, dtype: object"
      ]
     },
     "execution_count": 32,
     "metadata": {},
     "output_type": "execute_result"
    }
   ],
   "source": [
    "data.Windspeed .describe()"
   ]
  },
  {
   "cell_type": "code",
   "execution_count": 33,
   "id": "d6be5e3a",
   "metadata": {},
   "outputs": [
    {
     "data": {
      "text/plain": [
       "0"
      ]
     },
     "execution_count": 33,
     "metadata": {},
     "output_type": "execute_result"
    }
   ],
   "source": [
    "data.Windspeed.isnull().sum()"
   ]
  },
  {
   "cell_type": "code",
   "execution_count": 34,
   "id": "1233fdce",
   "metadata": {},
   "outputs": [
    {
     "data": {
      "text/plain": [
       "<AxesSubplot:xlabel='Windspeed', ylabel='count'>"
      ]
     },
     "execution_count": 34,
     "metadata": {},
     "output_type": "execute_result"
    },
    {
     "data": {
      "image/png": "[encoded data removed]",
      "text/plain": [
       "<Figure size 432x288 with 1 Axes>"
      ]
     },
     "metadata": {
      "needs_background": "light"
     },
     "output_type": "display_data"
    }
   ],
   "source": [
    "sns.countplot(x='Windspeed',data=data)"
   ]
  },
  {
   "cell_type": "markdown",
   "id": "9e3ea3f8",
   "metadata": {},
   "source": [
    "<h5>DOMINANT HAND</h5>"
   ]
  },
  {
   "cell_type": "code",
   "execution_count": 35,
   "id": "2746f5db",
   "metadata": {},
   "outputs": [
    {
     "data": {
      "text/plain": [
       "count     88\n",
       "unique     2\n",
       "top        R\n",
       "freq      70\n",
       "Name: Dominanthand, dtype: object"
      ]
     },
     "execution_count": 35,
     "metadata": {},
     "output_type": "execute_result"
    }
   ],
   "source": [
    "data.Dominanthand.describe()"
   ]
  },
  {
   "cell_type": "code",
   "execution_count": 36,
   "id": "983148aa",
   "metadata": {},
   "outputs": [
    {
     "data": {
      "text/plain": [
       "0"
      ]
     },
     "execution_count": 36,
     "metadata": {},
     "output_type": "execute_result"
    }
   ],
   "source": [
    "data.Dominanthand.isnull().sum()"
   ]
  },
  {
   "cell_type": "code",
   "execution_count": 37,
   "id": "4894daa8",
   "metadata": {},
   "outputs": [
    {
     "data": {
      "text/plain": [
       "<AxesSubplot:xlabel='Dominanthand', ylabel='count'>"
      ]
     },
     "execution_count": 37,
     "metadata": {},
     "output_type": "execute_result"
    },
    {
     "data": {
      "image/png": "[encoded data removed]",
      "text/plain": [
       "<Figure size 432x288 with 1 Axes>"
      ]
     },
     "metadata": {
      "needs_background": "light"
     },
     "output_type": "display_data"
    }
   ],
   "source": [
    "sns.countplot(x=\"Dominanthand\",data=data)"
   ]
  },
  {
   "cell_type": "markdown",
   "id": "094dfe68",
   "metadata": {},
   "source": [
    "<h5>DISTANCE</h5>"
   ]
  },
  {
   "cell_type": "code",
   "execution_count": 38,
   "id": "adcd6ce9",
   "metadata": {},
   "outputs": [
    {
     "data": {
      "text/plain": [
       "count    88.000000\n",
       "mean      6.090909\n",
       "std       1.974762\n",
       "min       1.000000\n",
       "25%       5.000000\n",
       "50%       6.000000\n",
       "75%       7.000000\n",
       "max      11.000000\n",
       "Name: Distance, dtype: float64"
      ]
     },
     "execution_count": 38,
     "metadata": {},
     "output_type": "execute_result"
    }
   ],
   "source": [
    "data.Distance.describe()"
   ]
  },
  {
   "cell_type": "code",
   "execution_count": 39,
   "id": "054e13bb",
   "metadata": {},
   "outputs": [
    {
     "data": {
      "text/plain": [
       "0"
      ]
     },
     "execution_count": 39,
     "metadata": {},
     "output_type": "execute_result"
    }
   ],
   "source": [
    "data.Distance.isnull().sum()"
   ]
  },
  {
   "cell_type": "code",
   "execution_count": 40,
   "id": "7c1761ed",
   "metadata": {},
   "outputs": [
    {
     "data": {
      "text/plain": [
       "{'whiskers': [<matplotlib.lines.Line2D at 0x17f494b32e0>,\n",
       "  <matplotlib.lines.Line2D at 0x17f494b3670>],\n",
       " 'caps': [<matplotlib.lines.Line2D at 0x17f494b3a00>,\n",
       "  <matplotlib.lines.Line2D at 0x17f494b3d90>],\n",
       " 'boxes': [<matplotlib.lines.Line2D at 0x17f494a5f70>],\n",
       " 'medians': [<matplotlib.lines.Line2D at 0x17f494c2160>],\n",
       " 'fliers': [<matplotlib.lines.Line2D at 0x17f494c24f0>],\n",
       " 'means': []}"
      ]
     },
     "execution_count": 40,
     "metadata": {},
     "output_type": "execute_result"
    },
    {
     "data": {
      "image/png": "[encoded data removed]",
      "text/plain": [
       "<Figure size 432x288 with 1 Axes>"
      ]
     },
     "metadata": {
      "needs_background": "light"
     },
     "output_type": "display_data"
    }
   ],
   "source": [
    "plt.boxplot(data.Distance)"
   ]
  },
  {
   "cell_type": "markdown",
   "id": "8237f684",
   "metadata": {},
   "source": [
    "<h5>ROCKET DISTANCE</h5>"
   ]
  },
  {
   "cell_type": "code",
   "execution_count": 41,
   "id": "1ce8035d",
   "metadata": {},
   "outputs": [
    {
     "data": {
      "text/plain": [
       "count      88\n",
       "unique      2\n",
       "top       Yes\n",
       "freq       73\n",
       "Name: RocketDistance, dtype: object"
      ]
     },
     "execution_count": 41,
     "metadata": {},
     "output_type": "execute_result"
    }
   ],
   "source": [
    "data.RocketDistance.describe()"
   ]
  },
  {
   "cell_type": "code",
   "execution_count": 42,
   "id": "dda074d6",
   "metadata": {},
   "outputs": [
    {
     "data": {
      "text/plain": [
       "0"
      ]
     },
     "execution_count": 42,
     "metadata": {},
     "output_type": "execute_result"
    }
   ],
   "source": [
    "data.RocketDistance.isnull().sum()"
   ]
  },
  {
   "cell_type": "code",
   "execution_count": 43,
   "id": "afe82e42",
   "metadata": {},
   "outputs": [
    {
     "data": {
      "text/plain": [
       "<AxesSubplot:xlabel='RocketDistance', ylabel='count'>"
      ]
     },
     "execution_count": 43,
     "metadata": {},
     "output_type": "execute_result"
    },
    {
     "data": {
      "image/png": "[encoded data removed]",
      "text/plain": [
       "<Figure size 432x288 with 1 Axes>"
      ]
     },
     "metadata": {
      "needs_background": "light"
     },
     "output_type": "display_data"
    }
   ],
   "source": [
    "sns.countplot(x=\"RocketDistance\",data=data)"
   ]
  },
  {
   "cell_type": "markdown",
   "id": "b5765d1a",
   "metadata": {},
   "source": [
    "<h5>ASSIGN DUMMIES VALUES</h5>"
   ]
  },
  {
   "cell_type": "code",
   "execution_count": 44,
   "id": "a2253776",
   "metadata": {},
   "outputs": [],
   "source": [
    "X=data[[\"Person\",\"Length\",\"Breadth\",\"PaperQuality\",\"Angle\",\"Foldings\",\"Windspeed\",\"Dominanthand\"]]\n"
   ]
  },
  {
   "cell_type": "code",
   "execution_count": 45,
   "id": "98a799c7",
   "metadata": {},
   "outputs": [],
   "source": [
    "x=pd.get_dummies(X)"
   ]
  },
  {
   "cell_type": "markdown",
   "id": "97d27be2",
   "metadata": {},
   "source": [
    "<h3>MIN MAX SCALER</h3>"
   ]
  },
  {
   "cell_type": "code",
   "execution_count": 46,
   "id": "62d479f2",
   "metadata": {},
   "outputs": [],
   "source": [
    "from sklearn.preprocessing import MinMaxScaler\n",
    "scaler = MinMaxScaler()\n",
    "scaled_data=scaler.fit_transform(x)"
   ]
  },
  {
   "cell_type": "code",
   "execution_count": 47,
   "id": "376465ed",
   "metadata": {},
   "outputs": [],
   "source": [
    "Min_Max_Scaler= pd.DataFrame(scaled_data)\n"
   ]
  },
  {
   "cell_type": "markdown",
   "id": "c2fb9fad",
   "metadata": {},
   "source": [
    "<h2>MODEL SELECTION</h2>"
   ]
  },
  {
   "cell_type": "code",
   "execution_count": 48,
   "id": "3362f310",
   "metadata": {},
   "outputs": [],
   "source": [
    "y=data.Distance"
   ]
  },
  {
   "cell_type": "code",
   "execution_count": 49,
   "id": "6189812e",
   "metadata": {},
   "outputs": [],
   "source": [
    "from sklearn.model_selection import train_test_split\n",
    "train_x,test_x,train_y,test_y=train_test_split(x,y,test_size=0.2,random_state=10)"
   ]
  },
  {
   "cell_type": "markdown",
   "id": "b10066b9",
   "metadata": {},
   "source": [
    "<h3>LINEAR REGRESSION</h3>"
   ]
  },
  {
   "cell_type": "code",
   "execution_count": 50,
   "id": "ca56bedf",
   "metadata": {},
   "outputs": [
    {
     "name": "stdout",
     "output_type": "stream",
     "text": [
      "Test Score = -0.5894402702327701\n"
     ]
    }
   ],
   "source": [
    "from sklearn.linear_model import LinearRegression\n",
    "model=LinearRegression()\n",
    "model.fit(train_x,train_y)\n",
    "Test_score_1=model.score(test_x,test_y)\n",
    "print(\"Test Score =\",Test_score_1)"
   ]
  },
  {
   "cell_type": "markdown",
   "id": "84d18c89",
   "metadata": {},
   "source": [
    "<h3>LOGISTICS REGRESSION</h3>"
   ]
  },
  {
   "cell_type": "code",
   "execution_count": 51,
   "id": "bf552443",
   "metadata": {},
   "outputs": [],
   "source": [
    "Y=data.RocketDistance"
   ]
  },
  {
   "cell_type": "code",
   "execution_count": 52,
   "id": "3790fddd",
   "metadata": {},
   "outputs": [],
   "source": [
    "train_x,test_x,train_y,test_y=train_test_split(x,Y,test_size=0.2,random_state=10)"
   ]
  },
  {
   "cell_type": "code",
   "execution_count": 53,
   "id": "397e7810",
   "metadata": {},
   "outputs": [
    {
     "name": "stdout",
     "output_type": "stream",
     "text": [
      "Test Score = 0.8888888888888888\n"
     ]
    },
    {
     "name": "stderr",
     "output_type": "stream",
     "text": [
      "C:\\Users\\PRADEEP PRIYA\\anaconda3\\lib\\site-packages\\sklearn\\linear_model\\_logistic.py:763: ConvergenceWarning: lbfgs failed to converge (status=1):\n",
      "STOP: TOTAL NO. of ITERATIONS REACHED LIMIT.\n",
      "\n",
      "Increase the number of iterations (max_iter) or scale the data as shown in:\n",
      "    https://scikit-learn.org/stable/modules/preprocessing.html\n",
      "Please also refer to the documentation for alternative solver options:\n",
      "    https://scikit-learn.org/stable/modules/linear_model.html#logistic-regression\n",
      "  n_iter_i = _check_optimize_result(\n"
     ]
    }
   ],
   "source": [
    "from sklearn.linear_model import LogisticRegression\n",
    "model_1=LogisticRegression()\n",
    "model_1.fit(train_x,train_y)\n",
    "Test_score_2=model_1.score(test_x,test_y)\n",
    "print(\"Test Score =\",Test_score_2)"
   ]
  },
  {
   "cell_type": "markdown",
   "id": "1f6b9b2d",
   "metadata": {},
   "source": [
    "<h3>DECISION TREE CLASSIFIER</h3>"
   ]
  },
  {
   "cell_type": "code",
   "execution_count": 54,
   "id": "845317ed",
   "metadata": {},
   "outputs": [
    {
     "name": "stdout",
     "output_type": "stream",
     "text": [
      "Test Score = 0.8333333333333334\n"
     ]
    }
   ],
   "source": [
    "from sklearn.tree import DecisionTreeClassifier\n",
    "model_2=DecisionTreeClassifier()\n",
    "model_2.fit(train_x,train_y)\n",
    "Test_score_3=model_2.score(test_x,test_y)\n",
    "print(\"Test Score =\",Test_score_3)"
   ]
  },
  {
   "cell_type": "markdown",
   "id": "b5024df1",
   "metadata": {},
   "source": [
    "<H2>BEST MODEL FOR THIS DATA SET IS :LOGISTICS REGRESSION</H2>"
   ]
  }
 ],
 "metadata": {
  "kernelspec": {
   "display_name": "Python 3 (ipykernel)",
   "language": "python",
   "name": "python3"
  },
  "language_info": {
   "codemirror_mode": {
    "name": "ipython",
    "version": 3
   },
   "file_extension": ".py",
   "mimetype": "text/x-python",
   "name": "python",
   "nbconvert_exporter": "python",
   "pygments_lexer": "ipython3",
   "version": "3.9.7"
  }
 },
 "nbformat": 4,
 "nbformat_minor": 5
}
